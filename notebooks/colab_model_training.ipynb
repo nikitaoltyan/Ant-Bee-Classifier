{
  "nbformat": 4,
  "nbformat_minor": 0,
  "metadata": {
    "colab": {
      "provenance": [],
      "gpuType": "T4"
    },
    "kernelspec": {
      "name": "python3",
      "display_name": "Python 3"
    },
    "language_info": {
      "name": "python"
    },
    "accelerator": "GPU"
  },
  "cells": [
    {
      "cell_type": "code",
      "execution_count": 1,
      "metadata": {
        "colab": {
          "base_uri": "https://localhost:8080/"
        },
        "id": "RNBygAuvRB-5",
        "outputId": "401870b2-a789-407c-8606-b7a4481e8a4f"
      },
      "outputs": [
        {
          "output_type": "stream",
          "name": "stderr",
          "text": [
            "Cloning into 'Ant-Bee-Classifier'...\n"
          ]
        }
      ],
      "source": [
        "%%bash\n",
        "rm -rf Ant-Bee-Classifier\n",
        "\n",
        "git clone https://github.com/nikitaoltyan/Ant-Bee-Classifier.git"
      ]
    },
    {
      "cell_type": "code",
      "source": [
        "# Set working directory\n",
        "%cd Ant-Bee-Classifier"
      ],
      "metadata": {
        "colab": {
          "base_uri": "https://localhost:8080/"
        },
        "id": "O-OlXEqJR42h",
        "outputId": "ed9d4b6d-b79d-443b-de5d-805f1bb9b377"
      },
      "execution_count": 2,
      "outputs": [
        {
          "output_type": "stream",
          "name": "stdout",
          "text": [
            "/content/Ant-Bee-Classifier\n"
          ]
        }
      ]
    },
    {
      "cell_type": "code",
      "source": [
        "# Download training data\n",
        "! python src/download_data.py"
      ],
      "metadata": {
        "id": "fxzdtJpiSLaV"
      },
      "execution_count": 3,
      "outputs": []
    },
    {
      "cell_type": "code",
      "source": [
        "# Traing model and save the training results\n",
        "! python src/train.py -b 64 -e 40 -vb 1"
      ],
      "metadata": {
        "colab": {
          "base_uri": "https://localhost:8080/"
        },
        "id": "hsQK9w15TPEJ",
        "outputId": "d87975f6-b8f8-4d62-9a43-204914386e71"
      },
      "execution_count": 5,
      "outputs": [
        {
          "output_type": "stream",
          "name": "stdout",
          "text": [
            "2023-06-20 20:26:21.365370: I tensorflow/core/platform/cpu_feature_guard.cc:182] This TensorFlow binary is optimized to use available CPU instructions in performance-critical operations.\n",
            "To enable the following instructions: AVX2 FMA, in other operations, rebuild TensorFlow with the appropriate compiler flags.\n",
            "2023-06-20 20:26:22.360713: W tensorflow/compiler/tf2tensorrt/utils/py_utils.cc:38] TF-TRT Warning: Could not find TensorRT\n",
            "training...\n",
            "Found 220 images belonging to 2 classes.\n",
            "Found 24 images belonging to 2 classes.\n",
            "2023-06-20 20:26:24.176388: I tensorflow/compiler/xla/stream_executor/cuda/cuda_gpu_executor.cc:996] successful NUMA node read from SysFS had negative value (-1), but there must be at least one NUMA node, so returning NUMA node zero. See more at https://github.com/torvalds/linux/blob/v6.0/Documentation/ABI/testing/sysfs-bus-pci#L344-L355\n",
            "2023-06-20 20:26:24.207061: I tensorflow/compiler/xla/stream_executor/cuda/cuda_gpu_executor.cc:996] successful NUMA node read from SysFS had negative value (-1), but there must be at least one NUMA node, so returning NUMA node zero. See more at https://github.com/torvalds/linux/blob/v6.0/Documentation/ABI/testing/sysfs-bus-pci#L344-L355\n",
            "2023-06-20 20:26:24.207323: I tensorflow/compiler/xla/stream_executor/cuda/cuda_gpu_executor.cc:996] successful NUMA node read from SysFS had negative value (-1), but there must be at least one NUMA node, so returning NUMA node zero. See more at https://github.com/torvalds/linux/blob/v6.0/Documentation/ABI/testing/sysfs-bus-pci#L344-L355\n",
            "2023-06-20 20:26:24.207950: I tensorflow/compiler/xla/stream_executor/cuda/cuda_gpu_executor.cc:996] successful NUMA node read from SysFS had negative value (-1), but there must be at least one NUMA node, so returning NUMA node zero. See more at https://github.com/torvalds/linux/blob/v6.0/Documentation/ABI/testing/sysfs-bus-pci#L344-L355\n",
            "2023-06-20 20:26:24.208178: I tensorflow/compiler/xla/stream_executor/cuda/cuda_gpu_executor.cc:996] successful NUMA node read from SysFS had negative value (-1), but there must be at least one NUMA node, so returning NUMA node zero. See more at https://github.com/torvalds/linux/blob/v6.0/Documentation/ABI/testing/sysfs-bus-pci#L344-L355\n",
            "2023-06-20 20:26:24.208346: I tensorflow/compiler/xla/stream_executor/cuda/cuda_gpu_executor.cc:996] successful NUMA node read from SysFS had negative value (-1), but there must be at least one NUMA node, so returning NUMA node zero. See more at https://github.com/torvalds/linux/blob/v6.0/Documentation/ABI/testing/sysfs-bus-pci#L344-L355\n",
            "2023-06-20 20:26:25.269221: I tensorflow/compiler/xla/stream_executor/cuda/cuda_gpu_executor.cc:996] successful NUMA node read from SysFS had negative value (-1), but there must be at least one NUMA node, so returning NUMA node zero. See more at https://github.com/torvalds/linux/blob/v6.0/Documentation/ABI/testing/sysfs-bus-pci#L344-L355\n",
            "2023-06-20 20:26:25.269496: I tensorflow/compiler/xla/stream_executor/cuda/cuda_gpu_executor.cc:996] successful NUMA node read from SysFS had negative value (-1), but there must be at least one NUMA node, so returning NUMA node zero. See more at https://github.com/torvalds/linux/blob/v6.0/Documentation/ABI/testing/sysfs-bus-pci#L344-L355\n",
            "2023-06-20 20:26:25.269685: I tensorflow/compiler/xla/stream_executor/cuda/cuda_gpu_executor.cc:996] successful NUMA node read from SysFS had negative value (-1), but there must be at least one NUMA node, so returning NUMA node zero. See more at https://github.com/torvalds/linux/blob/v6.0/Documentation/ABI/testing/sysfs-bus-pci#L344-L355\n",
            "2023-06-20 20:26:25.269815: W tensorflow/core/common_runtime/gpu/gpu_bfc_allocator.cc:47] Overriding orig_value setting because the TF_FORCE_GPU_ALLOW_GROWTH environment variable is set. Original config value was 0.\n",
            "2023-06-20 20:26:25.269875: I tensorflow/core/common_runtime/gpu/gpu_device.cc:1635] Created device /job:localhost/replica:0/task:0/device:GPU:0 with 13664 MB memory:  -> device: 0, name: Tesla T4, pci bus id: 0000:00:04.0, compute capability: 7.5\n",
            "2023-06-20 20:26:25.952680: I tensorflow/core/common_runtime/executor.cc:1197] [/device:CPU:0] (DEBUG INFO) Executor start aborting (this does not indicate an error and you can ignore this message): INVALID_ARGUMENT: You must feed a value for placeholder tensor 'Placeholder/_0' with dtype int32\n",
            "\t [[{{node Placeholder/_0}}]]\n",
            "Epoch 1/40\n",
            "2023-06-20 20:26:28.311150: I tensorflow/compiler/xla/stream_executor/cuda/cuda_dnn.cc:424] Loaded cuDNN version 8900\n",
            "2023-06-20 20:26:29.264213: I tensorflow/compiler/xla/service/service.cc:169] XLA service 0x25938300 initialized for platform CUDA (this does not guarantee that XLA will be used). Devices:\n",
            "2023-06-20 20:26:29.264267: I tensorflow/compiler/xla/service/service.cc:177]   StreamExecutor device (0): Tesla T4, Compute Capability 7.5\n",
            "2023-06-20 20:26:29.377689: I tensorflow/compiler/mlir/tensorflow/utils/dump_mlir_util.cc:269] disabling MLIR crash reproducer, set env var `MLIR_CRASH_REPRODUCER_DIRECTORY` to enable.\n",
            "2023-06-20 20:26:29.905651: I ./tensorflow/compiler/jit/device_compiler.h:180] Compiled cluster using XLA!  This line is logged at most once for the lifetime of the process.\n",
            "4/4 [==============================] - ETA: 0s - loss: 0.6911 - binary_accuracy: 0.5250 - precision: 0.5274 - recall: 0.48182023-06-20 20:26:34.426050: I tensorflow/core/common_runtime/executor.cc:1197] [/device:CPU:0] (DEBUG INFO) Executor start aborting (this does not indicate an error and you can ignore this message): INVALID_ARGUMENT: You must feed a value for placeholder tensor 'Placeholder/_0' with dtype int32\n",
            "\t [[{{node Placeholder/_0}}]]\n",
            "4/4 [==============================] - 9s 579ms/step - loss: 0.6911 - binary_accuracy: 0.5250 - precision: 0.5274 - recall: 0.4818 - val_loss: 0.6612 - val_binary_accuracy: 0.6667 - val_precision: 0.6538 - val_recall: 0.7083\n",
            "Epoch 2/40\n",
            "4/4 [==============================] - 2s 528ms/step - loss: 0.6745 - binary_accuracy: 0.5682 - precision: 0.5630 - recall: 0.6091 - val_loss: 0.6404 - val_binary_accuracy: 0.6458 - val_precision: 0.6400 - val_recall: 0.6667\n",
            "Epoch 3/40\n",
            "4/4 [==============================] - 2s 443ms/step - loss: 0.6783 - binary_accuracy: 0.5636 - precision: 0.5625 - recall: 0.5727 - val_loss: 0.5821 - val_binary_accuracy: 0.7500 - val_precision: 0.7500 - val_recall: 0.7500\n",
            "Epoch 4/40\n",
            "4/4 [==============================] - 2s 486ms/step - loss: 0.6267 - binary_accuracy: 0.6500 - precision: 0.6528 - recall: 0.6409 - val_loss: 0.5192 - val_binary_accuracy: 0.7292 - val_precision: 0.7391 - val_recall: 0.7083\n",
            "Epoch 5/40\n",
            "4/4 [==============================] - 2s 446ms/step - loss: 0.6224 - binary_accuracy: 0.6455 - precision: 0.6441 - recall: 0.6500 - val_loss: 0.5422 - val_binary_accuracy: 0.6667 - val_precision: 0.6667 - val_recall: 0.6667\n",
            "Epoch 6/40\n",
            "4/4 [==============================] - 2s 523ms/step - loss: 0.6577 - binary_accuracy: 0.6136 - precision: 0.6147 - recall: 0.6091 - val_loss: 0.5841 - val_binary_accuracy: 0.7500 - val_precision: 0.7500 - val_recall: 0.7500\n",
            "Epoch 7/40\n",
            "4/4 [==============================] - 2s 439ms/step - loss: 0.6335 - binary_accuracy: 0.6341 - precision: 0.6323 - recall: 0.6409 - val_loss: 0.5628 - val_binary_accuracy: 0.6667 - val_precision: 0.6667 - val_recall: 0.6667\n",
            "Epoch 8/40\n",
            "4/4 [==============================] - 2s 421ms/step - loss: 0.6303 - binary_accuracy: 0.6068 - precision: 0.6073 - recall: 0.6045 - val_loss: 0.5618 - val_binary_accuracy: 0.7083 - val_precision: 0.7083 - val_recall: 0.7083\n",
            "Epoch 9/40\n",
            "4/4 [==============================] - 2s 644ms/step - loss: 0.6245 - binary_accuracy: 0.6636 - precision: 0.6667 - recall: 0.6545 - val_loss: 0.5693 - val_binary_accuracy: 0.7500 - val_precision: 0.7500 - val_recall: 0.7500\n",
            "Epoch 10/40\n",
            "4/4 [==============================] - 2s 513ms/step - loss: 0.6173 - binary_accuracy: 0.6795 - precision: 0.6804 - recall: 0.6773 - val_loss: 0.5475 - val_binary_accuracy: 0.7083 - val_precision: 0.7083 - val_recall: 0.7083\n",
            "Epoch 11/40\n",
            "4/4 [==============================] - 2s 438ms/step - loss: 0.5982 - binary_accuracy: 0.6477 - precision: 0.6457 - recall: 0.6545 - val_loss: 0.4751 - val_binary_accuracy: 0.7917 - val_precision: 0.7917 - val_recall: 0.7917\n",
            "Epoch 12/40\n",
            "4/4 [==============================] - 2s 441ms/step - loss: 0.6101 - binary_accuracy: 0.6682 - precision: 0.6682 - recall: 0.6682 - val_loss: 0.4749 - val_binary_accuracy: 0.7500 - val_precision: 0.7500 - val_recall: 0.7500\n",
            "Epoch 13/40\n",
            "4/4 [==============================] - 2s 430ms/step - loss: 0.5831 - binary_accuracy: 0.6773 - precision: 0.6773 - recall: 0.6773 - val_loss: 0.5048 - val_binary_accuracy: 0.7083 - val_precision: 0.7083 - val_recall: 0.7083\n",
            "Epoch 14/40\n",
            "4/4 [==============================] - 2s 439ms/step - loss: 0.5750 - binary_accuracy: 0.6955 - precision: 0.6991 - recall: 0.6864 - val_loss: 0.5361 - val_binary_accuracy: 0.7917 - val_precision: 0.7917 - val_recall: 0.7917\n",
            "Epoch 15/40\n",
            "4/4 [==============================] - 2s 516ms/step - loss: 0.6257 - binary_accuracy: 0.6545 - precision: 0.6545 - recall: 0.6545 - val_loss: 0.5458 - val_binary_accuracy: 0.7083 - val_precision: 0.7083 - val_recall: 0.7083\n",
            "Epoch 16/40\n",
            "4/4 [==============================] - 2s 430ms/step - loss: 0.6006 - binary_accuracy: 0.6705 - precision: 0.6744 - recall: 0.6591 - val_loss: 0.5653 - val_binary_accuracy: 0.6667 - val_precision: 0.6667 - val_recall: 0.6667\n",
            "Epoch 17/40\n",
            "4/4 [==============================] - 2s 438ms/step - loss: 0.5611 - binary_accuracy: 0.7273 - precision: 0.7273 - recall: 0.7273 - val_loss: 0.4960 - val_binary_accuracy: 0.7083 - val_precision: 0.7083 - val_recall: 0.7083\n",
            "Epoch 18/40\n",
            "4/4 [==============================] - 2s 430ms/step - loss: 0.6382 - binary_accuracy: 0.6773 - precision: 0.6773 - recall: 0.6773 - val_loss: 0.4893 - val_binary_accuracy: 0.7500 - val_precision: 0.7500 - val_recall: 0.7500\n",
            "Epoch 19/40\n",
            "4/4 [==============================] - 2s 559ms/step - loss: 0.5565 - binary_accuracy: 0.7136 - precision: 0.7156 - recall: 0.7091 - val_loss: 0.5570 - val_binary_accuracy: 0.7917 - val_precision: 0.7917 - val_recall: 0.7917\n",
            "Epoch 20/40\n",
            "4/4 [==============================] - 3s 688ms/step - loss: 0.5310 - binary_accuracy: 0.7227 - precision: 0.7248 - recall: 0.7182 - val_loss: 0.5957 - val_binary_accuracy: 0.6042 - val_precision: 0.6087 - val_recall: 0.5833\n",
            "Epoch 21/40\n",
            "4/4 [==============================] - 2s 423ms/step - loss: 0.5610 - binary_accuracy: 0.6932 - precision: 0.6906 - recall: 0.7000 - val_loss: 0.4880 - val_binary_accuracy: 0.7917 - val_precision: 0.7917 - val_recall: 0.7917\n",
            "Epoch 22/40\n",
            "4/4 [==============================] - 2s 442ms/step - loss: 0.5134 - binary_accuracy: 0.7068 - precision: 0.7040 - recall: 0.7136 - val_loss: 0.4782 - val_binary_accuracy: 0.7083 - val_precision: 0.7083 - val_recall: 0.7083\n",
            "Epoch 23/40\n",
            "4/4 [==============================] - 2s 425ms/step - loss: 0.5413 - binary_accuracy: 0.6932 - precision: 0.6923 - recall: 0.6955 - val_loss: 0.4651 - val_binary_accuracy: 0.7917 - val_precision: 0.7917 - val_recall: 0.7917\n",
            "Epoch 24/40\n",
            "4/4 [==============================] - 2s 535ms/step - loss: 0.5229 - binary_accuracy: 0.7500 - precision: 0.7500 - recall: 0.7500 - val_loss: 0.4653 - val_binary_accuracy: 0.7083 - val_precision: 0.7083 - val_recall: 0.7083\n",
            "Epoch 25/40\n",
            "4/4 [==============================] - 2s 571ms/step - loss: 0.5047 - binary_accuracy: 0.7727 - precision: 0.7727 - recall: 0.7727 - val_loss: 0.4330 - val_binary_accuracy: 0.7917 - val_precision: 0.7917 - val_recall: 0.7917\n",
            "Epoch 26/40\n",
            "4/4 [==============================] - 2s 436ms/step - loss: 0.5177 - binary_accuracy: 0.7659 - precision: 0.7671 - recall: 0.7636 - val_loss: 0.4812 - val_binary_accuracy: 0.7500 - val_precision: 0.7500 - val_recall: 0.7500\n",
            "Epoch 27/40\n",
            "4/4 [==============================] - 2s 439ms/step - loss: 0.5029 - binary_accuracy: 0.7591 - precision: 0.7591 - recall: 0.7591 - val_loss: 0.3921 - val_binary_accuracy: 0.8333 - val_precision: 0.8333 - val_recall: 0.8333\n",
            "Epoch 28/40\n",
            "4/4 [==============================] - 2s 527ms/step - loss: 0.4645 - binary_accuracy: 0.7636 - precision: 0.7613 - recall: 0.7682 - val_loss: 0.4728 - val_binary_accuracy: 0.8125 - val_precision: 0.8000 - val_recall: 0.8333\n",
            "Epoch 29/40\n",
            "4/4 [==============================] - 2s 442ms/step - loss: 0.4989 - binary_accuracy: 0.7705 - precision: 0.7668 - recall: 0.7773 - val_loss: 0.5230 - val_binary_accuracy: 0.7083 - val_precision: 0.7083 - val_recall: 0.7083\n",
            "Epoch 30/40\n",
            "4/4 [==============================] - 2s 460ms/step - loss: 0.4821 - binary_accuracy: 0.7818 - precision: 0.7818 - recall: 0.7818 - val_loss: 0.4926 - val_binary_accuracy: 0.7500 - val_precision: 0.7500 - val_recall: 0.7500\n",
            "Epoch 31/40\n",
            "4/4 [==============================] - 3s 664ms/step - loss: 0.4998 - binary_accuracy: 0.7409 - precision: 0.7409 - recall: 0.7409 - val_loss: 0.4923 - val_binary_accuracy: 0.7500 - val_precision: 0.7500 - val_recall: 0.7500\n",
            "Epoch 32/40\n",
            "4/4 [==============================] - 2s 437ms/step - loss: 0.5269 - binary_accuracy: 0.7523 - precision: 0.7534 - recall: 0.7500 - val_loss: 0.5434 - val_binary_accuracy: 0.7917 - val_precision: 0.7917 - val_recall: 0.7917\n",
            "Epoch 33/40\n",
            "4/4 [==============================] - 2s 424ms/step - loss: 0.4469 - binary_accuracy: 0.8182 - precision: 0.8153 - recall: 0.8227 - val_loss: 0.4709 - val_binary_accuracy: 0.8333 - val_precision: 0.8333 - val_recall: 0.8333\n",
            "Epoch 34/40\n",
            "4/4 [==============================] - 2s 532ms/step - loss: 0.4493 - binary_accuracy: 0.7932 - precision: 0.7892 - recall: 0.8000 - val_loss: 0.4480 - val_binary_accuracy: 0.7917 - val_precision: 0.7917 - val_recall: 0.7917\n",
            "Epoch 35/40\n",
            "4/4 [==============================] - 2s 440ms/step - loss: 0.4449 - binary_accuracy: 0.7750 - precision: 0.7738 - recall: 0.7773 - val_loss: 0.4575 - val_binary_accuracy: 0.7917 - val_precision: 0.7917 - val_recall: 0.7917\n",
            "Epoch 36/40\n",
            "4/4 [==============================] - 2s 442ms/step - loss: 0.4530 - binary_accuracy: 0.8159 - precision: 0.8174 - recall: 0.8136 - val_loss: 0.4293 - val_binary_accuracy: 0.7500 - val_precision: 0.7500 - val_recall: 0.7500\n",
            "Epoch 37/40\n",
            "4/4 [==============================] - 2s 545ms/step - loss: 0.4244 - binary_accuracy: 0.8114 - precision: 0.8100 - recall: 0.8136 - val_loss: 0.5318 - val_binary_accuracy: 0.7917 - val_precision: 0.7917 - val_recall: 0.7917\n",
            "Epoch 38/40\n",
            "4/4 [==============================] - 2s 442ms/step - loss: 0.4235 - binary_accuracy: 0.8045 - precision: 0.8045 - recall: 0.8045 - val_loss: 0.3643 - val_binary_accuracy: 0.8333 - val_precision: 0.8333 - val_recall: 0.8333\n",
            "Epoch 39/40\n",
            "4/4 [==============================] - 2s 530ms/step - loss: 0.4431 - binary_accuracy: 0.7864 - precision: 0.7864 - recall: 0.7864 - val_loss: 0.4589 - val_binary_accuracy: 0.7917 - val_precision: 0.7917 - val_recall: 0.7917\n",
            "Epoch 40/40\n",
            "4/4 [==============================] - 2s 485ms/step - loss: 0.4247 - binary_accuracy: 0.7795 - precision: 0.7808 - recall: 0.7773 - val_loss: 0.4941 - val_binary_accuracy: 0.7500 - val_precision: 0.7500 - val_recall: 0.7500\n"
          ]
        }
      ]
    },
    {
      "cell_type": "code",
      "source": [],
      "metadata": {
        "id": "YIekvqA1fJ5b"
      },
      "execution_count": null,
      "outputs": []
    }
  ]
}